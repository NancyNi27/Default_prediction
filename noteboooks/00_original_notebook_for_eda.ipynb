{
 "cells": [
  {
   "cell_type": "markdown",
   "id": "62dda717",
   "metadata": {},
   "source": [
    "# EDA\n"
   ]
  },
  {
   "cell_type": "code",
   "execution_count": 2,
   "id": "72a9bb4e",
   "metadata": {},
   "outputs": [],
   "source": [
    "import pandas as pd\n",
    "import numpy as np\n",
    "import matplotlib.pyplot as plt\n",
    "import seaborn as sns"
   ]
  },
  {
   "cell_type": "code",
   "execution_count": 12,
   "id": "705aea58",
   "metadata": {},
   "outputs": [
    {
     "name": "stdout",
     "output_type": "stream",
     "text": [
      "\n",
      "==================== MISSING VALUES =================\n",
      "Payments Missing Values:\n",
      "transaction_id      0\n",
      "contract_id         0\n",
      "client_id           0\n",
      "transaction_date    0\n",
      "payment_amt         0\n",
      "payment_code        0\n",
      "dtype: int64\n",
      "\n",
      "Clients Missing Values:\n",
      "client_id                  0\n",
      "entity_type                0\n",
      "entity_year_established    0\n",
      "dtype: int64\n",
      "\n",
      "==================== CONVERTING DATE COLUMNS =================\n",
      "data_range: 2017-07-02 18:08:02 to 2018-07-24 18:08:10\n",
      "\n",
      "==================== BASIC DATA VALIDATION =================\n",
      "Unique payment codes: 2\n",
      "Negative amounts:2\n",
      "Negative Payments Found:\n",
      "       transaction_id  contract_id  client_id    transaction_date  \\\n",
      "5271            16270          564        259 2018-04-03 18:08:25   \n",
      "20089           18574          451        937 2018-05-03 18:08:28   \n",
      "\n",
      "       payment_amt payment_code  \n",
      "5271        -55.00      PAYMENT  \n",
      "20089      -136.66      PAYMENT  \n",
      "Number of DEFAULT payment codes: 2219\n"
     ]
    }
   ],
   "source": [
    "#quick EDA\n",
    "def data_loading():\n",
    "    #load datasets\n",
    "    payments = pd.read_csv('data/payments.csv')\n",
    "    clients  = pd.read_csv('data/clients.csv')\n",
    "\n",
    "    return payments, clients   \n",
    "\n",
    "def quick_EDA_check():\n",
    "\n",
    "    #load datasets\n",
    "    payments = pd.read_csv('data/payments.csv')\n",
    "    clients  = pd.read_csv('data/clients.csv')\n",
    "\n",
    "    #quick sanity checks\n",
    "    print(\"=================== BASIC DATA INFO ==================\")\n",
    "    print(f\"Payments Data Shape: {payments.shape}\")\n",
    "    print(f\"Clients Data Shape: {clients.shape}\")\n",
    "    print(\"\\n==================== PAYMENTS DATA HEAD =================\")\n",
    "    print(payments.head())\n",
    "    print(\"\\n==================== CLIENTS DATA HEAD =================\")\n",
    "    print(clients.head())\n",
    "\n",
    "    #check data types\n",
    "    print(\"\\n==================== DATA TYPES =================\")\n",
    "    print(\"Payments Data Types:\")\n",
    "    print(payments.dtypes) \n",
    "    print(\"\\nClients Data Types:\")\n",
    "    print(clients.dtypes)\n",
    "\n",
    "    return payments, clients\n",
    "\n",
    "# Data cleaning function\n",
    "def data_cleaninig(payments, clients):\n",
    "    #check for missing values\n",
    "    print(\"\\n==================== MISSING VALUES =================\")\n",
    "    print(\"Payments Missing Values:\")\n",
    "    print(payments.isnull().sum())\n",
    "    print(\"\\nClients Missing Values:\")\n",
    "    print(clients.isnull().sum())\n",
    "\n",
    "    #convert date columns from Epoch to datetime\n",
    "    print(\"\\n==================== CONVERTING DATE COLUMNS =================\")\n",
    "    payments['transaction_date'] = pd.to_datetime(payments['transaction_date'], unit='s')\n",
    "    print(f\"data_range: {payments['transaction_date'].min()} to {payments['transaction_date'].max()}\")\n",
    "\n",
    "    #basic data validation\n",
    "    print(\"\\n==================== BASIC DATA VALIDATION =================\")\n",
    "    print(f\"Unique payment codes: {payments['payment_code'].nunique()}\")\n",
    "    #check for negative payment amounts\n",
    "    print(f\"Negative amounts:{(payments['payment_amt']< 0).sum()}\")\n",
    "    negative_payments = payments[payments['payment_amt'] < 0]\n",
    "    if not negative_payments.empty:\n",
    "        print(\"Negative Payments Found:\")\n",
    "        print(negative_payments)\n",
    "    else:\n",
    "        print(\"No Negative Payments Found\")\n",
    "        \n",
    "    #check for DEFAULT payment codes\n",
    "    default_codes = payments[payments['payment_code'] == 'DEFAULT']\n",
    "    default_count = default_codes.shape[0]\n",
    "    print(f\"Number of DEFAULT payment codes: {default_count}\")\n",
    "\n",
    "    return payments, clients\n",
    "\n",
    "#main function to run the analysis\n",
    "def main():\n",
    "    payments, clients = data_loading()\n",
    "    #quick_EDA_check()\n",
    "    data_cleaninig(payments, clients)\n",
    "\n",
    "if __name__ == \"__main__\":\n",
    "    main()"
   ]
  },
  {
   "cell_type": "markdown",
   "id": "3e209035",
   "metadata": {},
   "source": [
    "## Figure out the meaning of negative payment_amt"
   ]
  },
  {
   "cell_type": "code",
   "execution_count": null,
   "id": "af0f8007",
   "metadata": {},
   "outputs": [
    {
     "name": "stdout",
     "output_type": "stream",
     "text": [
      "=== UNDERSTANDING NEGATIVE AMOUNTS ===\n",
      "Negative amount records: 2 (0.01%)\n",
      "Negative amount range: $-136.66 to $-55.00\n",
      "\n",
      "Negative amounts by payment code:\n",
      "payment_code\n",
      "PAYMENT    2\n",
      "Name: count, dtype: int64\n",
      "\n",
      "Sample negative amount records:\n",
      "       client_id  contract_id  payment_amt payment_code\n",
      "5271         259          564       -55.00      PAYMENT\n",
      "20089        937          451      -136.66      PAYMENT\n"
     ]
    }
   ],
   "source": [
    "print(\"=== UNDERSTANDING NEGATIVE AMOUNTS ===\")\n",
    "payments = pd.read_csv('data/payments.csv')\n",
    "\n",
    "# 1.  basic stats on negative payment amounts\n",
    "negative_payments = payments[payments['payment_amt'] < 0]\n",
    "print(f\"Negative amount records: {len(negative_payments)} ({len(negative_payments)/len(payments)*100:.2f}%)\")\n",
    "print(f\"Negative amount range: ${negative_payments['payment_amt'].min():.2f} to ${negative_payments['payment_amt'].max():.2f}\")\n",
    "\n",
    "# 2. check the paymend codes associated with negative amounts\n",
    "print(\"\\nNegative amounts by payment code:\")\n",
    "print(negative_payments['payment_code'].value_counts())\n",
    "\n",
    "# 3. check the first 5 records with negative amounts\n",
    "print(\"\\nSample negative amount records:\")\n",
    "print(negative_payments[['client_id', 'contract_id', 'payment_amt', 'payment_code']].head())"
   ]
  },
  {
   "cell_type": "code",
   "execution_count": null,
   "id": "db0ed7be",
   "metadata": {},
   "outputs": [],
   "source": [
    "import pandas as pd\n",
    "import numpy as np\n",
    "import matplotlib.pyplot as plt\n",
    "import seaborn as sns   \n",
    "from datetime import datetime\n",
    "import warnings\n",
    "warnings.filterwarnings('ignore')  \n",
    "\n",
    "#set up plotting style\n",
    "plt.rcParams['font.sans-serif'] = ['DejaVu Sans', 'Arial', 'Liberation Sans']\n",
    "plt.rxParams['axes.unicode_minus'] = False\n",
    "sns.set_style(\"whitegrid\")\n",
    "plt.rcParams['figure.figsize'] = (12, 8)\n",
    "\n",
    "class PaymentDefaultEDA:\n",
    "    def __init__ (self):\n",
    "        self.payments = None\n",
    "        self.clients = None\n",
    "        self.merged_data = None\n",
    "        "
   ]
  }
 ],
 "metadata": {
  "kernelspec": {
   "display_name": "payment_analysis",
   "language": "python",
   "name": "python3"
  },
  "language_info": {
   "codemirror_mode": {
    "name": "ipython",
    "version": 3
   },
   "file_extension": ".py",
   "mimetype": "text/x-python",
   "name": "python",
   "nbconvert_exporter": "python",
   "pygments_lexer": "ipython3",
   "version": "3.8.20"
  }
 },
 "nbformat": 4,
 "nbformat_minor": 5
}
